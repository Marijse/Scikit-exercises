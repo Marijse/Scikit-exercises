{
 "cells": [
  {
   "cell_type": "markdown",
   "metadata": {},
   "source": [
    "The underneath code describes car 1 and car 2 using a class variable."
   ]
  },
  {
   "cell_type": "code",
   "execution_count": null,
   "metadata": {
    "collapsed": true
   },
   "outputs": [],
   "source": [
    "class vehicles:\n",
    "    name = \"\"\n",
    "    kind = \"car\"\n",
    "    value = 100.000\n",
    "    color = \"\"\n",
    "    def description(self):\n",
    "        descr_str = \"%s is a %s %s worth $%2f.\" %(self.name, self.kind, self.color, self.value)\n",
    "        return descr_str\n",
    "\n",
    "car1 = vehicles()\n",
    "car1.name = \"Fer\"\n",
    "car1.kind = \"convertible\"\n",
    "car1.value = 60.000\n",
    "car1.color = \"red\"\n",
    "\n",
    "car2 = vehicles()\n",
    "car2.name = \"Jump\"\n",
    "car2.kind = \"Van\"\n",
    "car2.value = 10.000\n",
    "car2.color = \"blue\"\n",
    "\n",
    "print(car1.description())\n",
    "print(car2.description())"
   ]
  },
  {
   "cell_type": "markdown",
   "metadata": {},
   "source": [
    "This exercise will go through a series of 15 numbers. For numbers dividable by 3, it will print \"Wip\", for numbers dividable by 5 it will print \"Wap\", for numbers dividable by 5 and 3 it will print \"Wip Wap\". "
   ]
  },
  {
   "cell_type": "code",
   "execution_count": 14,
   "metadata": {
    "collapsed": false
   },
   "outputs": [
    {
     "name": "stdout",
     "output_type": "stream",
     "text": [
      "This number is not dividable by 3 or 5\n",
      "This number is not dividable by 3 or 5\n",
      "3 Wip\n",
      "This number is not dividable by 3 or 5\n",
      "5 Wap\n",
      "6 Wip\n",
      "This number is not dividable by 3 or 5\n",
      "This number is not dividable by 3 or 5\n",
      "9 Wip\n",
      "10 Wap\n",
      "This number is not dividable by 3 or 5\n",
      "12 Wip\n",
      "This number is not dividable by 3 or 5\n",
      "This number is not dividable by 3 or 5\n",
      "15 Wip Wap\n"
     ]
    }
   ],
   "source": [
    "for i in range(1,16):\n",
    "    if (i%3 == 0) and (i%5 == 0):\n",
    "        print(i,\"Wip Wap\")\n",
    "    elif (i%3 == 0):\n",
    "        print(i,\"Wip\")\n",
    "    elif (i%5 == 0):\n",
    "        print(i,\"Wap\")\n",
    "    else:\n",
    "        print(\"This number is not dividable by 3 or 5\")\n",
    "   "
   ]
  },
  {
   "cell_type": "markdown",
   "metadata": {},
   "source": [
    "The below code is a while loop. As long as 'count' is smaller than 5, count will be printed. At every iteration 'count' is replaced by 'count + 1'. The loop stops when count is larger than 5. "
   ]
  },
  {
   "cell_type": "code",
   "execution_count": 20,
   "metadata": {
    "collapsed": false
   },
   "outputs": [
    {
     "name": "stdout",
     "output_type": "stream",
     "text": [
      "0\n",
      "1\n",
      "2\n",
      "3\n",
      "4\n"
     ]
    }
   ],
   "source": [
    "count = 0\n",
    "while (count < 5):\n",
    "    print(count)\n",
    "    count = count + 1"
   ]
  },
  {
   "cell_type": "markdown",
   "metadata": {},
   "source": [
    "The below example shows how to convert an array or a list of, in this case kilometers walked, into a numpy array. We then use the numpy array to convert from kilometers to miles. We use the np.around function to round our new variables down to two decimal places. "
   ]
  },
  {
   "cell_type": "code",
   "execution_count": 30,
   "metadata": {
    "collapsed": false
   },
   "outputs": [
    {
     "name": "stdout",
     "output_type": "stream",
     "text": [
      "[ 9.32  8.08  5.78  1.74  4.35  8.26]\n"
     ]
    }
   ],
   "source": [
    "import numpy as np\n",
    "distance_walked_km = [15,13,9.3,2.8,7,13.3]\n",
    "conv = 0.621371192\n",
    "\n",
    "np_distance_walked_km = np.array(distance_walked_km)\n",
    "np_distance_walked_ml = np.around(np_distance_walked_km * conv, decimals=2)\n",
    "\n",
    "print(np_distance_walked_ml)"
   ]
  },
  {
   "cell_type": "markdown",
   "metadata": {},
   "source": [
    "The below example shows how a list can be converted into a dataframe using Pandas. We then change the index from numbers ( 0 to 4 in this case) to the first two letters of each country. Lastly, we rename the index column to Country initial. "
   ]
  },
  {
   "cell_type": "code",
   "execution_count": 21,
   "metadata": {
    "collapsed": false
   },
   "outputs": [
    {
     "name": "stdout",
     "output_type": "stream",
     "text": [
      "                   Area    Capital       Country  population\n",
      "Country initial                                             \n",
      "Br                8.516   Brasilia        Brazil      200.40\n",
      "Ru               17.100     Moscow        Russia      143.50\n",
      "In                3.286  New Delhi         India     1252.00\n",
      "Ch                9.597    Beijing         China     1357.00\n",
      "So                1.211   Pretonia  South Africa       52.98\n"
     ]
    }
   ],
   "source": [
    "dict = {\"Country\":[\"Brazil\",\"Russia\",\"India\",\"China\",\"South Africa\"], \n",
    "        \"Capital\":[\"Brasilia\",\"Moscow\",\"New Delhi\",\"Beijing\", \"Pretonia\"], \n",
    "        \"Area\":[8.516,17.10,3.286,9.597,1.211],\n",
    "        \"population\":[200.4,143.5,1252,1357,52.98]\n",
    "       }\n",
    "\n",
    "import pandas as pd\n",
    "df = pd.DataFrame(dict)\n",
    "df.index = df[\"Country\"].str[:2]\n",
    "df.index.names = [\"Country initial\"]\n",
    "\n",
    "print(df)\n",
    "\n"
   ]
  },
  {
   "cell_type": "code",
   "execution_count": null,
   "metadata": {
    "collapsed": true
   },
   "outputs": [],
   "source": []
  },
  {
   "cell_type": "code",
   "execution_count": null,
   "metadata": {
    "collapsed": true
   },
   "outputs": [],
   "source": []
  }
 ],
 "metadata": {
  "kernelspec": {
   "display_name": "Python 3",
   "language": "python",
   "name": "python3"
  },
  "language_info": {
   "codemirror_mode": {
    "name": "ipython",
    "version": 3
   },
   "file_extension": ".py",
   "mimetype": "text/x-python",
   "name": "python",
   "nbconvert_exporter": "python",
   "pygments_lexer": "ipython3",
   "version": "3.6.0"
  }
 },
 "nbformat": 4,
 "nbformat_minor": 2
}
